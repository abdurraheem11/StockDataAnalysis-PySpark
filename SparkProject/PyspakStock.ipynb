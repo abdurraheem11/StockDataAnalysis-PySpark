{
 "cells": [
  {
   "cell_type": "code",
   "execution_count": 61,
   "metadata": {},
   "outputs": [],
   "source": [
    "spark = None\n",
    "# make sure no conflicting variables \n",
    "\n",
    "from pyspark.sql import SparkSession\n",
    "from pyspark.sql.functions import udf # for user defined fucntions"
   ]
  },
  {
   "cell_type": "code",
   "execution_count": 62,
   "metadata": {},
   "outputs": [],
   "source": [
    "spark = SparkSession.builder.appName(\"Stock Analysis\").getOrCreate()\n",
    "path_to_files= 'Stock Analysis project /StockData'"
   ]
  },
  {
   "cell_type": "code",
   "execution_count": 63,
   "metadata": {},
   "outputs": [],
   "source": [
    "stocks_df = spark.read.csv(path_to_files, header=True, inferSchema=True)\n",
    "# I want our headers as is from csv so we set header = True"
   ]
  },
  {
   "cell_type": "code",
   "execution_count": 64,
   "metadata": {},
   "outputs": [
    {
     "name": "stdout",
     "output_type": "stream",
     "text": [
      "+------+----------+----------+-------+--------+--------+--------+\n",
      "|Ticker|      Date|Close/Last| Volume|    Open|    High|     Low|\n",
      "+------+----------+----------+-------+--------+--------+--------+\n",
      "| BRK-B|05/31/2023|  $321.08 |6175417|$321.12 |$322.41 |$319.39 |\n",
      "| BRK-B|05/30/2023|  $322.19 |3232461|$321.86 |$322.47 |$319.00 |\n",
      "| BRK-B|05/26/2023|  $320.60 |3229873|$320.44 |$322.63 |$319.67 |\n",
      "| BRK-B|05/25/2023|  $319.02 |4251935|$320.56 |$320.56 |$317.71 |\n",
      "| BRK-B|05/24/2023|  $320.20 |3075393|$322.71 |$323.00 |$319.56 |\n",
      "| BRK-B|05/23/2023|  $323.11 |4031342|$328.19 |$329.27 |$322.97 |\n",
      "| BRK-B|05/22/2023|  $329.13 |2763422|$330.75 |$331.49 |$328.35 |\n",
      "| BRK-B|05/19/2023|  $330.39 |4323538|$331.00 |$333.94 |$329.12 |\n",
      "| BRK-B|05/18/2023|  $329.76 |2808329|$326.87 |$329.98 |$325.85 |\n",
      "| BRK-B|05/17/2023|  $327.39 |3047626|$325.02 |$328.26 |$324.82 |\n",
      "| BRK-B|05/16/2023|  $323.75 |2139996|$322.46 |$324.69 |$322.36 |\n",
      "| BRK-B|05/15/2023|  $323.53 |2191609|$322.89 |$323.83 |$320.13 |\n",
      "| BRK-B|05/12/2023|  $322.49 |1938264|$323.82 |$324.24 |$320.54 |\n",
      "| BRK-B|05/11/2023|  $322.64 |2549339|$321.00 |$322.96 |$319.81 |\n",
      "| BRK-B|05/10/2023|  $322.99 |2641134|$326.08 |$326.16 |$320.15 |\n",
      "| BRK-B|05/09/2023|  $324.87 |2285924|$324.87 |$326.88 |$323.48 |\n",
      "| BRK-B|05/08/2023|  $326.14 |3303393|$328.26 |$330.69 |$325.79 |\n",
      "| BRK-B|05/05/2023|  $323.88 |3876299|$323.36 |$325.16 |$322.62 |\n",
      "| BRK-B|05/04/2023|  $320.00 |3194768|$323.44 |$325.99 |$317.41 |\n",
      "| BRK-B|05/03/2023|  $323.22 |2660456|$327.13 |$328.07 |$323.06 |\n",
      "+------+----------+----------+-------+--------+--------+--------+\n",
      "only showing top 20 rows\n",
      "\n"
     ]
    }
   ],
   "source": [
    "stocks_df.show()"
   ]
  },
  {
   "cell_type": "code",
   "execution_count": 65,
   "metadata": {},
   "outputs": [
    {
     "name": "stdout",
     "output_type": "stream",
     "text": [
      "root\n",
      " |-- Ticker: string (nullable = true)\n",
      " |-- Date: string (nullable = true)\n",
      " |-- Close/Last: string (nullable = true)\n",
      " |-- Volume: integer (nullable = true)\n",
      " |-- Open: string (nullable = true)\n",
      " |-- High: string (nullable = true)\n",
      " |-- Low: string (nullable = true)\n",
      "\n"
     ]
    }
   ],
   "source": [
    "stocks_df.printSchema()"
   ]
  },
  {
   "cell_type": "code",
   "execution_count": 66,
   "metadata": {},
   "outputs": [
    {
     "name": "stdout",
     "output_type": "stream",
     "text": [
      "+------+----------+\n",
      "|Ticker|      Date|\n",
      "+------+----------+\n",
      "| BRK-B|05/31/2023|\n",
      "| BRK-B|05/30/2023|\n",
      "| BRK-B|05/26/2023|\n",
      "| BRK-B|05/25/2023|\n",
      "| BRK-B|05/24/2023|\n",
      "+------+----------+\n",
      "only showing top 5 rows\n",
      "\n"
     ]
    }
   ],
   "source": [
    "stocks_df.select('Ticker', 'Date').show(5)"
   ]
  },
  {
   "cell_type": "markdown",
   "metadata": {},
   "source": [
    "Now we select microsoft 'MSFT' from Ticker and show forst 10"
   ]
  },
  {
   "cell_type": "code",
   "execution_count": 67,
   "metadata": {},
   "outputs": [
    {
     "name": "stdout",
     "output_type": "stream",
     "text": [
      "+------+----------+----------+--------+--------+--------+--------+\n",
      "|Ticker|      Date|Close/Last|  Volume|    Open|    High|     Low|\n",
      "+------+----------+----------+--------+--------+--------+--------+\n",
      "|  MSFT|05/31/2023|  $328.39 |45950550|$332.29 |$335.94 |$327.33 |\n",
      "|  MSFT|05/30/2023|  $331.21 |29503070|$335.23 |$335.74 |$330.52 |\n",
      "|  MSFT|05/26/2023|  $332.89 |36630630|$324.02 |$333.40 |$323.88 |\n",
      "|  MSFT|05/25/2023|  $325.92 |43301740|$323.24 |$326.90 |$320.00 |\n",
      "|  MSFT|05/24/2023|  $313.85 |23384890|$314.73 |$316.50 |$312.61 |\n",
      "|  MSFT|05/23/2023|  $315.26 |30797170|$320.03 |$322.72 |$315.25 |\n",
      "|  MSFT|05/22/2023|  $321.18 |24115660|$318.60 |$322.59 |$318.01 |\n",
      "|  MSFT|05/19/2023|  $318.34 |27546700|$316.74 |$318.75 |$316.37 |\n",
      "|  MSFT|05/18/2023|  $318.52 |27275990|$314.53 |$319.04 |$313.72 |\n",
      "|  MSFT|05/17/2023|  $314.00 |24315010|$312.29 |$314.43 |$310.74 |\n",
      "+------+----------+----------+--------+--------+--------+--------+\n",
      "only showing top 10 rows\n",
      "\n"
     ]
    }
   ],
   "source": [
    "stocks_df.filter(stocks_df.Ticker == 'MSFT').show(10)"
   ]
  },
  {
   "cell_type": "markdown",
   "metadata": {},
   "source": [
    "Advanced filtering using multiple conditions"
   ]
  },
  {
   "cell_type": "code",
   "execution_count": 68,
   "metadata": {},
   "outputs": [
    {
     "name": "stdout",
     "output_type": "stream",
     "text": [
      "+------+----------+----------+--------+--------+--------+--------+\n",
      "|Ticker|      Date|Close/Last|  Volume|    Open|    High|     Low|\n",
      "+------+----------+----------+--------+--------+--------+--------+\n",
      "|  MSFT|05/25/2023|  $325.92 |43301740|$323.24 |$326.90 |$320.00 |\n",
      "+------+----------+----------+--------+--------+--------+--------+\n",
      "\n"
     ]
    }
   ],
   "source": [
    "stocks_df.filter( (stocks_df.Ticker ==  'MSFT') & (stocks_df.Date == '05/25/2023') ).show()"
   ]
  },
  {
   "cell_type": "code",
   "execution_count": 69,
   "metadata": {},
   "outputs": [
    {
     "name": "stdout",
     "output_type": "stream",
     "text": [
      "+------+----------+----------+--------+--------+--------+--------+\n",
      "|Ticker|      Date|Close/Last|  Volume|    Open|    High|     Low|\n",
      "+------+----------+----------+--------+--------+--------+--------+\n",
      "|  MSFT|05/25/2023|  $325.92 |43301740|$323.24 |$326.90 |$320.00 |\n",
      "|     V|05/25/2023|  $223.38 | 6827756|$222.45 |$224.69 |$220.49 |\n",
      "+------+----------+----------+--------+--------+--------+--------+\n",
      "\n"
     ]
    }
   ],
   "source": [
    "stocks_df.filter( ((stocks_df.Ticker ==  'MSFT') | (stocks_df.Ticker ==  'V' )) & (stocks_df.Date == '05/25/2023') ).show()"
   ]
  },
  {
   "cell_type": "code",
   "execution_count": 70,
   "metadata": {},
   "outputs": [
    {
     "name": "stdout",
     "output_type": "stream",
     "text": [
      "+------+----------+----------+--------+--------+--------+--------+\n",
      "|Ticker|      Date|Close/Last|  Volume|    Open|    High|     Low|\n",
      "+------+----------+----------+--------+--------+--------+--------+\n",
      "| BRK-B|05/25/2023|  $319.02 | 4251935|$320.56 |$320.56 |$317.71 |\n",
      "|  MSFT|05/25/2023|  $325.92 |43301740|$323.24 |$326.90 |$320.00 |\n",
      "|  TSLA|05/25/2023|  $184.47 |96870720|$186.54 |$186.78 |$180.58 |\n",
      "|     V|05/25/2023|  $223.38 | 6827756|$222.45 |$224.69 |$220.49 |\n",
      "|   SPY|05/25/2023|    414.65|90961610|  414.74|  416.16|412.4101|\n",
      "|   QQQ|05/25/2023|    339.72|66862770|  339.14|  341.01| 336.665|\n",
      "+------+----------+----------+--------+--------+--------+--------+\n",
      "\n"
     ]
    }
   ],
   "source": [
    "stocks_df.filter( ( stocks_df.Ticker.isin(['MSFT', 'V', 'BRK-B','TSLA', 'SPY', 'QQQ']) ) & (stocks_df.Date == '05/25/2023') ).show()\n",
    "# '.isin' provide you a list to work with "
   ]
  },
  {
   "cell_type": "markdown",
   "metadata": {},
   "source": [
    "------------------------------"
   ]
  },
  {
   "cell_type": "markdown",
   "metadata": {},
   "source": [
    "We need to write a udf for converting the column Date(string) to Date(date) datatype"
   ]
  },
  {
   "cell_type": "code",
   "execution_count": 71,
   "metadata": {},
   "outputs": [],
   "source": [
    "from pyspark.sql.types import DateType # import spark native datatype which is Date \n",
    "from datetime import datetime"
   ]
  },
  {
   "cell_type": "code",
   "execution_count": 72,
   "metadata": {},
   "outputs": [],
   "source": [
    "date_parser = udf(lambda date: datetime.strptime(date, \"%m/%d/%Y\"), DateType())\n",
    "# date - the argument to the lambda fucntion\n",
    "# DateType(): Specifies that the output type of the UDF will be a date\n",
    "\n",
    "# the datatime library has the fucntion strip time which is used to parse a string representing a date/ time to a \"datetime\" object.\n",
    "# Commom formats:\n",
    "# %Y: Four-digit year (e.g., 2024)\n",
    "# %m: Two-digit month (01-12)\n",
    "# %d: Two-digit day of the month (01-31)\n",
    "# %H: Two-digit hour in 24-hour format (00-23)\n",
    "# %M: Two-digit minute (00-59)\n",
    "# %S: Two-digit second (00-59)\n",
    "# %f: Microsecond (000000-999999)\n",
    "# %p: AM or PM"
   ]
  },
  {
   "cell_type": "code",
   "execution_count": 73,
   "metadata": {},
   "outputs": [
    {
     "name": "stdout",
     "output_type": "stream",
     "text": [
      "+------+----------+----------+-------+--------+--------+--------+----------+\n",
      "|Ticker|      Date|Close/Last| Volume|    Open|    High|     Low|ParsedDate|\n",
      "+------+----------+----------+-------+--------+--------+--------+----------+\n",
      "| BRK-B|05/31/2023|  $321.08 |6175417|$321.12 |$322.41 |$319.39 |2023-05-31|\n",
      "| BRK-B|05/30/2023|  $322.19 |3232461|$321.86 |$322.47 |$319.00 |2023-05-30|\n",
      "| BRK-B|05/26/2023|  $320.60 |3229873|$320.44 |$322.63 |$319.67 |2023-05-26|\n",
      "| BRK-B|05/25/2023|  $319.02 |4251935|$320.56 |$320.56 |$317.71 |2023-05-25|\n",
      "| BRK-B|05/24/2023|  $320.20 |3075393|$322.71 |$323.00 |$319.56 |2023-05-24|\n",
      "+------+----------+----------+-------+--------+--------+--------+----------+\n",
      "only showing top 5 rows\n",
      "\n"
     ]
    }
   ],
   "source": [
    "stocks_df.withColumn('ParsedDate', date_parser(stocks_df.Date)).show(5)\n",
    "# withcolumn creates a new column which is named ParsedDate and the values are coming from the udf- date_parser\n",
    "# stocks_df.na.drop('column') will drop a cloumn "
   ]
  },
  {
   "cell_type": "code",
   "execution_count": 74,
   "metadata": {},
   "outputs": [],
   "source": [
    "stocks_df1 = stocks_df.withColumn('ParsedDate', date_parser(stocks_df.Date))"
   ]
  },
  {
   "cell_type": "code",
   "execution_count": 75,
   "metadata": {},
   "outputs": [
    {
     "name": "stdout",
     "output_type": "stream",
     "text": [
      "root\n",
      " |-- Ticker: string (nullable = true)\n",
      " |-- Date: string (nullable = true)\n",
      " |-- Close/Last: string (nullable = true)\n",
      " |-- Volume: integer (nullable = true)\n",
      " |-- Open: string (nullable = true)\n",
      " |-- High: string (nullable = true)\n",
      " |-- Low: string (nullable = true)\n",
      " |-- ParsedDate: date (nullable = true)\n",
      "\n"
     ]
    }
   ],
   "source": [
    "stocks_df1.printSchema()"
   ]
  },
  {
   "cell_type": "markdown",
   "metadata": {},
   "source": [
    "---------------------"
   ]
  },
  {
   "cell_type": "markdown",
   "metadata": {},
   "source": [
    "We need to write a udf for extracing proper price in unified format"
   ]
  },
  {
   "cell_type": "code",
   "execution_count": 76,
   "metadata": {},
   "outputs": [
    {
     "name": "stdout",
     "output_type": "stream",
     "text": [
      "10.0\n",
      "10\n"
     ]
    }
   ],
   "source": [
    "# fisrt, define a fucntion that will strip the string of any $ sign or improper value and leave the int/float as is\n",
    "\n",
    "def num_parser(value):\n",
    "    if isinstance(value , str):\n",
    "        return float(value.strip('$')) # convert str to float and remove the '$' and return\n",
    "    elif isinstance(value, int) or isinstance(value, float):\n",
    "        return value\n",
    "    else:\n",
    "        return None\n",
    "\n",
    "print(num_parser('$10'))\n",
    "print(num_parser(10))"
   ]
  },
  {
   "cell_type": "code",
   "execution_count": 77,
   "metadata": {},
   "outputs": [],
   "source": [
    "from pyspark.sql.types import FloatType # import spark native datatype which is `Float Type`\n",
    "number_parser = udf(num_parser, FloatType())"
   ]
  },
  {
   "cell_type": "code",
   "execution_count": 78,
   "metadata": {},
   "outputs": [
    {
     "name": "stdout",
     "output_type": "stream",
     "text": [
      "+------+----------+----------+-------+------+--------+--------+----------+\n",
      "|Ticker|      Date|Close/Last| Volume|  Open|    High|     Low|ParsedDate|\n",
      "+------+----------+----------+-------+------+--------+--------+----------+\n",
      "| BRK-B|05/31/2023|  $321.08 |6175417|321.12|$322.41 |$319.39 |2023-05-31|\n",
      "| BRK-B|05/30/2023|  $322.19 |3232461|321.86|$322.47 |$319.00 |2023-05-30|\n",
      "| BRK-B|05/26/2023|  $320.60 |3229873|320.44|$322.63 |$319.67 |2023-05-26|\n",
      "| BRK-B|05/25/2023|  $319.02 |4251935|320.56|$320.56 |$317.71 |2023-05-25|\n",
      "| BRK-B|05/24/2023|  $320.20 |3075393|322.71|$323.00 |$319.56 |2023-05-24|\n",
      "| BRK-B|05/23/2023|  $323.11 |4031342|328.19|$329.27 |$322.97 |2023-05-23|\n",
      "| BRK-B|05/22/2023|  $329.13 |2763422|330.75|$331.49 |$328.35 |2023-05-22|\n",
      "| BRK-B|05/19/2023|  $330.39 |4323538| 331.0|$333.94 |$329.12 |2023-05-19|\n",
      "| BRK-B|05/18/2023|  $329.76 |2808329|326.87|$329.98 |$325.85 |2023-05-18|\n",
      "| BRK-B|05/17/2023|  $327.39 |3047626|325.02|$328.26 |$324.82 |2023-05-17|\n",
      "| BRK-B|05/16/2023|  $323.75 |2139996|322.46|$324.69 |$322.36 |2023-05-16|\n",
      "| BRK-B|05/15/2023|  $323.53 |2191609|322.89|$323.83 |$320.13 |2023-05-15|\n",
      "| BRK-B|05/12/2023|  $322.49 |1938264|323.82|$324.24 |$320.54 |2023-05-12|\n",
      "| BRK-B|05/11/2023|  $322.64 |2549339| 321.0|$322.96 |$319.81 |2023-05-11|\n",
      "| BRK-B|05/10/2023|  $322.99 |2641134|326.08|$326.16 |$320.15 |2023-05-10|\n",
      "| BRK-B|05/09/2023|  $324.87 |2285924|324.87|$326.88 |$323.48 |2023-05-09|\n",
      "| BRK-B|05/08/2023|  $326.14 |3303393|328.26|$330.69 |$325.79 |2023-05-08|\n",
      "| BRK-B|05/05/2023|  $323.88 |3876299|323.36|$325.16 |$322.62 |2023-05-05|\n",
      "| BRK-B|05/04/2023|  $320.00 |3194768|323.44|$325.99 |$317.41 |2023-05-04|\n",
      "| BRK-B|05/03/2023|  $323.22 |2660456|327.13|$328.07 |$323.06 |2023-05-03|\n",
      "+------+----------+----------+-------+------+--------+--------+----------+\n",
      "only showing top 20 rows\n",
      "\n"
     ]
    }
   ],
   "source": [
    "stocks_df1.withColumn('Open', number_parser(stocks_df1.Open)).show()"
   ]
  },
  {
   "cell_type": "code",
   "execution_count": 79,
   "metadata": {},
   "outputs": [
    {
     "name": "stdout",
     "output_type": "stream",
     "text": [
      "+------+----------+----------+-------+------+------+------+----------+------+\n",
      "|Ticker|      Date|Close/Last| Volume|  Open|  High|   Low|ParsedDate| Close|\n",
      "+------+----------+----------+-------+------+------+------+----------+------+\n",
      "| BRK-B|05/31/2023|  $321.08 |6175417|321.12|322.41|319.39|2023-05-31|321.08|\n",
      "| BRK-B|05/30/2023|  $322.19 |3232461|321.86|322.47| 319.0|2023-05-30|322.19|\n",
      "| BRK-B|05/26/2023|  $320.60 |3229873|320.44|322.63|319.67|2023-05-26| 320.6|\n",
      "| BRK-B|05/25/2023|  $319.02 |4251935|320.56|320.56|317.71|2023-05-25|319.02|\n",
      "| BRK-B|05/24/2023|  $320.20 |3075393|322.71| 323.0|319.56|2023-05-24| 320.2|\n",
      "| BRK-B|05/23/2023|  $323.11 |4031342|328.19|329.27|322.97|2023-05-23|323.11|\n",
      "| BRK-B|05/22/2023|  $329.13 |2763422|330.75|331.49|328.35|2023-05-22|329.13|\n",
      "| BRK-B|05/19/2023|  $330.39 |4323538| 331.0|333.94|329.12|2023-05-19|330.39|\n",
      "| BRK-B|05/18/2023|  $329.76 |2808329|326.87|329.98|325.85|2023-05-18|329.76|\n",
      "| BRK-B|05/17/2023|  $327.39 |3047626|325.02|328.26|324.82|2023-05-17|327.39|\n",
      "+------+----------+----------+-------+------+------+------+----------+------+\n",
      "only showing top 10 rows\n",
      "\n",
      "root\n",
      " |-- Ticker: string (nullable = true)\n",
      " |-- Date: string (nullable = true)\n",
      " |-- Close/Last: string (nullable = true)\n",
      " |-- Volume: integer (nullable = true)\n",
      " |-- Open: float (nullable = true)\n",
      " |-- High: float (nullable = true)\n",
      " |-- Low: float (nullable = true)\n",
      " |-- ParsedDate: date (nullable = true)\n",
      " |-- Close: float (nullable = true)\n",
      "\n"
     ]
    }
   ],
   "source": [
    "stocks_df1 = (stocks_df1.withColumn(\"Open\", number_parser(stocks_df1.Open))\n",
    "                .withColumn(\"Close\", number_parser(stocks_df1[\"Close/Last\"]))\n",
    "                .withColumn(\"Low\", number_parser(stocks_df1.Low))\n",
    "                .withColumn(\"High\", number_parser(stocks_df1.High)))\n",
    "stocks_df1.show(10)\n",
    "stocks_df1.printSchema()"
   ]
  },
  {
   "cell_type": "code",
   "execution_count": 80,
   "metadata": {},
   "outputs": [
    {
     "name": "stdout",
     "output_type": "stream",
     "text": [
      "+------+----------+-------+------+------+------+------+\n",
      "|Ticker|ParsedDate| Volume|  Open|  High|   Low| Close|\n",
      "+------+----------+-------+------+------+------+------+\n",
      "| BRK-B|2023-05-31|6175417|321.12|322.41|319.39|321.08|\n",
      "| BRK-B|2023-05-30|3232461|321.86|322.47| 319.0|322.19|\n",
      "| BRK-B|2023-05-26|3229873|320.44|322.63|319.67| 320.6|\n",
      "| BRK-B|2023-05-25|4251935|320.56|320.56|317.71|319.02|\n",
      "| BRK-B|2023-05-24|3075393|322.71| 323.0|319.56| 320.2|\n",
      "| BRK-B|2023-05-23|4031342|328.19|329.27|322.97|323.11|\n",
      "| BRK-B|2023-05-22|2763422|330.75|331.49|328.35|329.13|\n",
      "| BRK-B|2023-05-19|4323538| 331.0|333.94|329.12|330.39|\n",
      "| BRK-B|2023-05-18|2808329|326.87|329.98|325.85|329.76|\n",
      "| BRK-B|2023-05-17|3047626|325.02|328.26|324.82|327.39|\n",
      "| BRK-B|2023-05-16|2139996|322.46|324.69|322.36|323.75|\n",
      "| BRK-B|2023-05-15|2191609|322.89|323.83|320.13|323.53|\n",
      "| BRK-B|2023-05-12|1938264|323.82|324.24|320.54|322.49|\n",
      "| BRK-B|2023-05-11|2549339| 321.0|322.96|319.81|322.64|\n",
      "| BRK-B|2023-05-10|2641134|326.08|326.16|320.15|322.99|\n",
      "| BRK-B|2023-05-09|2285924|324.87|326.88|323.48|324.87|\n",
      "| BRK-B|2023-05-08|3303393|328.26|330.69|325.79|326.14|\n",
      "| BRK-B|2023-05-05|3876299|323.36|325.16|322.62|323.88|\n",
      "| BRK-B|2023-05-04|3194768|323.44|325.99|317.41| 320.0|\n",
      "| BRK-B|2023-05-03|2660456|327.13|328.07|323.06|323.22|\n",
      "+------+----------+-------+------+------+------+------+\n",
      "only showing top 20 rows\n",
      "\n"
     ]
    }
   ],
   "source": [
    "finalStocks = stocks_df1.select(['Ticker', 'ParsedDate', 'Volume','Open', 'High','Low','Close'])\n",
    "finalStocks.show()"
   ]
  },
  {
   "cell_type": "markdown",
   "metadata": {},
   "source": [
    "To view statistics of the cleaned data"
   ]
  },
  {
   "cell_type": "code",
   "execution_count": 81,
   "metadata": {},
   "outputs": [
    {
     "name": "stdout",
     "output_type": "stream",
     "text": [
      "+-------+--------------------+------------------+------------------+------------------+------------------+\n",
      "|summary|              Volume|              Open|              High|               Low|             Close|\n",
      "+-------+--------------------+------------------+------------------+------------------+------------------+\n",
      "|  count|               15108|             15108|             15108|             15108|             15108|\n",
      "|   mean|5.1868408793685466E7|180.09656566181036| 182.1253348687101| 177.9982781513109| 180.1256089860054|\n",
      "| stddev| 5.496484129953464E7|101.16125813324399|101.96625521621753|100.26590135955216|101.14891782168563|\n",
      "|    min|              961133|             12.07|             12.45|              11.8|             11.93|\n",
      "|    max|           914080943|            479.22|            479.98|            476.06|            477.71|\n",
      "+-------+--------------------+------------------+------------------+------------------+------------------+\n",
      "\n"
     ]
    }
   ],
   "source": [
    "finalStocks.describe(['Volume','Open', 'High','Low','Close']).show()"
   ]
  },
  {
   "cell_type": "markdown",
   "metadata": {},
   "source": [
    "-----------------"
   ]
  },
  {
   "cell_type": "markdown",
   "metadata": {},
   "source": [
    "Find max open price for a stock in the last 5 years"
   ]
  },
  {
   "cell_type": "code",
   "execution_count": 82,
   "metadata": {},
   "outputs": [
    {
     "name": "stdout",
     "output_type": "stream",
     "text": [
      "+------+---------------+\n",
      "|Ticker|Max Stock Price|\n",
      "+------+---------------+\n",
      "| BRK-B|         361.39|\n",
      "|  MSFT|         344.62|\n",
      "|  META|         381.68|\n",
      "|  TSLA|         411.47|\n",
      "|  AAPL|         182.63|\n",
      "|  AMZN|          187.2|\n",
      "| GOOGL|         151.25|\n",
      "|  NVDA|         405.95|\n",
      "|     V|         250.05|\n",
      "|   TSM|         141.61|\n",
      "|   SPY|         479.22|\n",
      "|   QQQ|         405.57|\n",
      "+------+---------------+\n",
      "\n"
     ]
    }
   ],
   "source": [
    "finalStocks.groupBy('Ticker').max('Open').withColumnRenamed(\"max(Open)\", \"Max Stock Price\").show()\n",
    "# .withColumnRenamed is the method of applying alias "
   ]
  },
  {
   "cell_type": "markdown",
   "metadata": {},
   "source": [
    "using the inbuilt func to perform same operations"
   ]
  },
  {
   "cell_type": "code",
   "execution_count": 83,
   "metadata": {},
   "outputs": [
    {
     "name": "stdout",
     "output_type": "stream",
     "text": [
      "+------+-------------+\n",
      "|Ticker|MaxStockPrice|\n",
      "+------+-------------+\n",
      "| BRK-B|       361.39|\n",
      "|  MSFT|       344.62|\n",
      "|  META|       381.68|\n",
      "|  TSLA|       411.47|\n",
      "|  AAPL|       182.63|\n",
      "|  AMZN|        187.2|\n",
      "| GOOGL|       151.25|\n",
      "|  NVDA|       405.95|\n",
      "|     V|       250.05|\n",
      "|   TSM|       141.61|\n",
      "|   SPY|       479.22|\n",
      "|   QQQ|       405.57|\n",
      "+------+-------------+\n",
      "\n"
     ]
    }
   ],
   "source": [
    "import pyspark.sql.functions as func\n",
    "finalStocks.groupBy(\"Ticker\").agg(func.max(\"Open\").alias(\"MaxStockPrice\")).show(15)"
   ]
  },
  {
   "cell_type": "code",
   "execution_count": 84,
   "metadata": {},
   "outputs": [
    {
     "name": "stdout",
     "output_type": "stream",
     "text": [
      "+------+-------------+------------+\n",
      "|Ticker|MaxStockPrice|Total Volume|\n",
      "+------+-------------+------------+\n",
      "| BRK-B|       361.39|  5862401321|\n",
      "|  MSFT|       344.62| 37976660472|\n",
      "|  META|       381.68| 30148848043|\n",
      "|  TSLA|       411.47|171802975076|\n",
      "|  AAPL|       182.63|139310061360|\n",
      "|  AMZN|        187.2|104503287430|\n",
      "| GOOGL|       151.25| 43956560981|\n",
      "|  NVDA|       405.95| 58787218324|\n",
      "|     V|       250.05| 10410997871|\n",
      "|   TSM|       141.61| 12506470104|\n",
      "|   SPY|       479.22|107925285300|\n",
      "|   QQQ|       405.57| 60437153773|\n",
      "+------+-------------+------------+\n",
      "\n"
     ]
    }
   ],
   "source": [
    "finalStocks.groupBy(\"Ticker\").agg(\n",
    "    func.max(\"Open\").alias(\"MaxStockPrice\"),\n",
    "    func.sum(\"Volume\").alias(\"Total Volume\")\n",
    "    ).show(15)"
   ]
  },
  {
   "cell_type": "markdown",
   "metadata": {},
   "source": [
    "Extracting Month and Year from data for further analysis"
   ]
  },
  {
   "cell_type": "code",
   "execution_count": 85,
   "metadata": {},
   "outputs": [],
   "source": [
    "finalStocks = (finalStocks.withColumn(\"Year\", func.year(finalStocks.ParsedDate))\n",
    "                                .withColumn(\"Month\", func.month(finalStocks.ParsedDate))\n",
    "                                .withColumn(\"Day\", func.dayofmonth(finalStocks.ParsedDate))\n",
    "                                .withColumn(\"Week\", func.weekofyear(finalStocks.ParsedDate))\n",
    "                 )"
   ]
  },
  {
   "cell_type": "code",
   "execution_count": 86,
   "metadata": {},
   "outputs": [
    {
     "name": "stdout",
     "output_type": "stream",
     "text": [
      "+------+----------+-------+------+------+------+------+----+-----+---+----+\n",
      "|Ticker|ParsedDate| Volume|  Open|  High|   Low| Close|Year|Month|Day|Week|\n",
      "+------+----------+-------+------+------+------+------+----+-----+---+----+\n",
      "| BRK-B|2023-05-31|6175417|321.12|322.41|319.39|321.08|2023|    5| 31|  22|\n",
      "| BRK-B|2023-05-30|3232461|321.86|322.47| 319.0|322.19|2023|    5| 30|  22|\n",
      "| BRK-B|2023-05-26|3229873|320.44|322.63|319.67| 320.6|2023|    5| 26|  21|\n",
      "| BRK-B|2023-05-25|4251935|320.56|320.56|317.71|319.02|2023|    5| 25|  21|\n",
      "| BRK-B|2023-05-24|3075393|322.71| 323.0|319.56| 320.2|2023|    5| 24|  21|\n",
      "| BRK-B|2023-05-23|4031342|328.19|329.27|322.97|323.11|2023|    5| 23|  21|\n",
      "| BRK-B|2023-05-22|2763422|330.75|331.49|328.35|329.13|2023|    5| 22|  21|\n",
      "| BRK-B|2023-05-19|4323538| 331.0|333.94|329.12|330.39|2023|    5| 19|  20|\n",
      "| BRK-B|2023-05-18|2808329|326.87|329.98|325.85|329.76|2023|    5| 18|  20|\n",
      "| BRK-B|2023-05-17|3047626|325.02|328.26|324.82|327.39|2023|    5| 17|  20|\n",
      "+------+----------+-------+------+------+------+------+----+-----+---+----+\n",
      "only showing top 10 rows\n",
      "\n"
     ]
    }
   ],
   "source": [
    "finalStocks.show(10)"
   ]
  },
  {
   "cell_type": "markdown",
   "metadata": {},
   "source": [
    "stock price for a given year"
   ]
  },
  {
   "cell_type": "code",
   "execution_count": 87,
   "metadata": {},
   "outputs": [
    {
     "name": "stdout",
     "output_type": "stream",
     "text": [
      "+------+----+---------+---------+\n",
      "|Ticker|Year|YearlHigh|YearlyLow|\n",
      "+------+----+---------+---------+\n",
      "| BRK-B|2023|    331.0|   294.68|\n",
      "| BRK-B|2018|    224.0|   185.43|\n",
      "| BRK-B|2021|   300.88|   228.21|\n",
      "| BRK-B|2020|   233.92|    165.3|\n",
      "| BRK-B|2019|   227.27|   194.78|\n",
      "| BRK-B|2022|   361.39|   260.58|\n",
      "|  MSFT|2019|   159.45|    99.55|\n",
      "|  MSFT|2021|   344.62|   212.17|\n",
      "|  MSFT|2020|   229.27|   137.01|\n",
      "|  MSFT|2018|   115.42|    95.14|\n",
      "+------+----+---------+---------+\n",
      "only showing top 10 rows\n",
      "\n"
     ]
    }
   ],
   "source": [
    "yearly = finalStocks.groupBy(['Ticker', 'Year']).agg(func.max(\"Open\").alias(\"YearlHigh\"), \n",
    "                                                        func.min(\"Open\").alias(\"YearlyLow\"))\n",
    "yearly.show(10)"
   ]
  },
  {
   "cell_type": "code",
   "execution_count": 88,
   "metadata": {},
   "outputs": [
    {
     "name": "stdout",
     "output_type": "stream",
     "text": [
      "+------+----+-----+------------+-----------+\n",
      "|Ticker|Year|Month|Monthly High|Monthly Low|\n",
      "+------+----+-----+------------+-----------+\n",
      "| BRK-B|2022|   10|      297.98|     260.58|\n",
      "| BRK-B|2018|    9|      222.13|     209.21|\n",
      "| BRK-B|2021|   10|      290.85|     273.02|\n",
      "| BRK-B|2020|   10|      216.74|     200.03|\n",
      "| BRK-B|2019|    9|      212.24|     201.19|\n",
      "| BRK-B|2021|    6|      292.91|      275.0|\n",
      "| BRK-B|2022|   11|      317.52|     286.02|\n",
      "| BRK-B|2022|    7|      297.42|      272.5|\n",
      "| BRK-B|2022|    6|       316.0|     267.38|\n",
      "| BRK-B|2020|    8|      218.62|     197.28|\n",
      "| BRK-B|2021|   12|      300.88|     276.68|\n",
      "| BRK-B|2019|    1|      204.68|     194.78|\n",
      "| BRK-B|2019|    6|       213.0|     197.62|\n",
      "| BRK-B|2020|    7|      195.06|     178.26|\n",
      "| BRK-B|2021|    8|      291.81|     279.05|\n",
      "| BRK-B|2018|    6|       196.3|     185.43|\n",
      "| BRK-B|2022|    5|      325.85|     303.93|\n",
      "| BRK-B|2020|   12|      231.26|     222.02|\n",
      "| BRK-B|2020|    4|       194.0|      175.0|\n",
      "| BRK-B|2018|    8|      211.08|      197.2|\n",
      "+------+----+-----+------------+-----------+\n",
      "only showing top 20 rows\n",
      "\n"
     ]
    }
   ],
   "source": [
    "monthly = finalStocks.groupBy(['Ticker', 'Year', 'Month']).agg(func.max('Open').alias('Monthly High'),\n",
    "                                                               func.min('Open').alias('Monthly Low'))\n",
    "monthly.show()\n",
    "# while performing analysis, we need to know monthly and yearly trends"
   ]
  },
  {
   "cell_type": "code",
   "execution_count": 89,
   "metadata": {},
   "outputs": [
    {
     "name": "stdout",
     "output_type": "stream",
     "text": [
      "+------+----+-----+------------+-----------+---------+\n",
      "|Ticker|Year|Month|Monthly High|Monthly Low|   Spread|\n",
      "+------+----+-----+------------+-----------+---------+\n",
      "| BRK-B|2022|   10|      297.98|     260.58|37.400024|\n",
      "| BRK-B|2018|    9|      222.13|     209.21|12.919998|\n",
      "| BRK-B|2021|   10|      290.85|     273.02|17.830017|\n",
      "| BRK-B|2020|   10|      216.74|     200.03|16.710007|\n",
      "| BRK-B|2019|    9|      212.24|     201.19|11.050003|\n",
      "| BRK-B|2021|    6|      292.91|      275.0|17.910004|\n",
      "| BRK-B|2022|   11|      317.52|     286.02|     31.5|\n",
      "| BRK-B|2022|    7|      297.42|      272.5|24.920013|\n",
      "| BRK-B|2022|    6|       316.0|     267.38|48.619995|\n",
      "| BRK-B|2020|    8|      218.62|     197.28|21.339996|\n",
      "| BRK-B|2021|   12|      300.88|     276.68|24.200012|\n",
      "| BRK-B|2019|    1|      204.68|     194.78| 9.899994|\n",
      "| BRK-B|2019|    6|       213.0|     197.62|15.380005|\n",
      "| BRK-B|2020|    7|      195.06|     178.26|16.800003|\n",
      "| BRK-B|2021|    8|      291.81|     279.05| 12.76001|\n",
      "| BRK-B|2018|    6|       196.3|     185.43| 10.87001|\n",
      "| BRK-B|2022|    5|      325.85|     303.93|21.920013|\n",
      "| BRK-B|2020|   12|      231.26|     222.02|  9.23999|\n",
      "| BRK-B|2020|    4|       194.0|      175.0|     19.0|\n",
      "| BRK-B|2018|    8|      211.08|      197.2|13.880005|\n",
      "+------+----+-----+------------+-----------+---------+\n",
      "only showing top 20 rows\n",
      "\n"
     ]
    }
   ],
   "source": [
    "monthly = monthly.withColumn(\"Spread\", monthly['Monthly High'] - monthly['Monthly Low'])\n",
    "monthly.show()"
   ]
  },
  {
   "cell_type": "code",
   "execution_count": 90,
   "metadata": {},
   "outputs": [
    {
     "name": "stdout",
     "output_type": "stream",
     "text": [
      "+------+----+-----+------------+-----------+------+\n",
      "|Ticker|Year|Month|Monthly High|Monthly Low|Spread|\n",
      "+------+----+-----+------------+-----------+------+\n",
      "| BRK-B|2022|   10|      297.98|     260.58|  37.4|\n",
      "| BRK-B|2018|    9|      222.13|     209.21| 12.92|\n",
      "| BRK-B|2021|   10|      290.85|     273.02| 17.83|\n",
      "| BRK-B|2020|   10|      216.74|     200.03| 16.71|\n",
      "| BRK-B|2019|    9|      212.24|     201.19| 11.05|\n",
      "| BRK-B|2021|    6|      292.91|      275.0| 17.91|\n",
      "| BRK-B|2022|   11|      317.52|     286.02|  31.5|\n",
      "| BRK-B|2022|    7|      297.42|      272.5| 24.92|\n",
      "| BRK-B|2022|    6|       316.0|     267.38| 48.62|\n",
      "| BRK-B|2020|    8|      218.62|     197.28| 21.34|\n",
      "| BRK-B|2021|   12|      300.88|     276.68|  24.2|\n",
      "| BRK-B|2019|    1|      204.68|     194.78|   9.9|\n",
      "| BRK-B|2019|    6|       213.0|     197.62| 15.38|\n",
      "| BRK-B|2020|    7|      195.06|     178.26|  16.8|\n",
      "| BRK-B|2021|    8|      291.81|     279.05| 12.76|\n",
      "| BRK-B|2018|    6|       196.3|     185.43| 10.87|\n",
      "| BRK-B|2022|    5|      325.85|     303.93| 21.92|\n",
      "| BRK-B|2020|   12|      231.26|     222.02|  9.24|\n",
      "| BRK-B|2020|    4|       194.0|      175.0|  19.0|\n",
      "| BRK-B|2018|    8|      211.08|      197.2| 13.88|\n",
      "+------+----+-----+------------+-----------+------+\n",
      "only showing top 20 rows\n",
      "\n"
     ]
    }
   ],
   "source": [
    "from pyspark.sql.functions import round\n",
    "\n",
    "monthly.withColumn(\"Spread\", round(monthly.Spread, 2)).show()"
   ]
  },
  {
   "cell_type": "markdown",
   "metadata": {},
   "source": [
    "-----------------------"
   ]
  },
  {
   "cell_type": "markdown",
   "metadata": {},
   "source": [
    "Joins"
   ]
  },
  {
   "cell_type": "code",
   "execution_count": 91,
   "metadata": {},
   "outputs": [
    {
     "name": "stdout",
     "output_type": "stream",
     "text": [
      "+------+----------+-------+------+------+------+------+----+-----+---+----+------+----+---------+---------+\n",
      "|Ticker|ParsedDate| Volume|  Open|  High|   Low| Close|Year|Month|Day|Week|Ticker|Year|YearlHigh|YearlyLow|\n",
      "+------+----------+-------+------+------+------+------+----+-----+---+----+------+----+---------+---------+\n",
      "| BRK-B|2023-05-31|6175417|321.12|322.41|319.39|321.08|2023|    5| 31|  22| BRK-B|2023|    331.0|   294.68|\n",
      "| BRK-B|2023-05-30|3232461|321.86|322.47| 319.0|322.19|2023|    5| 30|  22| BRK-B|2023|    331.0|   294.68|\n",
      "| BRK-B|2023-05-26|3229873|320.44|322.63|319.67| 320.6|2023|    5| 26|  21| BRK-B|2023|    331.0|   294.68|\n",
      "| BRK-B|2023-05-25|4251935|320.56|320.56|317.71|319.02|2023|    5| 25|  21| BRK-B|2023|    331.0|   294.68|\n",
      "| BRK-B|2023-05-24|3075393|322.71| 323.0|319.56| 320.2|2023|    5| 24|  21| BRK-B|2023|    331.0|   294.68|\n",
      "| BRK-B|2023-05-23|4031342|328.19|329.27|322.97|323.11|2023|    5| 23|  21| BRK-B|2023|    331.0|   294.68|\n",
      "| BRK-B|2023-05-22|2763422|330.75|331.49|328.35|329.13|2023|    5| 22|  21| BRK-B|2023|    331.0|   294.68|\n",
      "| BRK-B|2023-05-19|4323538| 331.0|333.94|329.12|330.39|2023|    5| 19|  20| BRK-B|2023|    331.0|   294.68|\n",
      "| BRK-B|2023-05-18|2808329|326.87|329.98|325.85|329.76|2023|    5| 18|  20| BRK-B|2023|    331.0|   294.68|\n",
      "| BRK-B|2023-05-17|3047626|325.02|328.26|324.82|327.39|2023|    5| 17|  20| BRK-B|2023|    331.0|   294.68|\n",
      "| BRK-B|2023-05-16|2139996|322.46|324.69|322.36|323.75|2023|    5| 16|  20| BRK-B|2023|    331.0|   294.68|\n",
      "| BRK-B|2023-05-15|2191609|322.89|323.83|320.13|323.53|2023|    5| 15|  20| BRK-B|2023|    331.0|   294.68|\n",
      "| BRK-B|2023-05-12|1938264|323.82|324.24|320.54|322.49|2023|    5| 12|  19| BRK-B|2023|    331.0|   294.68|\n",
      "| BRK-B|2023-05-11|2549339| 321.0|322.96|319.81|322.64|2023|    5| 11|  19| BRK-B|2023|    331.0|   294.68|\n",
      "| BRK-B|2023-05-10|2641134|326.08|326.16|320.15|322.99|2023|    5| 10|  19| BRK-B|2023|    331.0|   294.68|\n",
      "| BRK-B|2023-05-09|2285924|324.87|326.88|323.48|324.87|2023|    5|  9|  19| BRK-B|2023|    331.0|   294.68|\n",
      "| BRK-B|2023-05-08|3303393|328.26|330.69|325.79|326.14|2023|    5|  8|  19| BRK-B|2023|    331.0|   294.68|\n",
      "| BRK-B|2023-05-05|3876299|323.36|325.16|322.62|323.88|2023|    5|  5|  18| BRK-B|2023|    331.0|   294.68|\n",
      "| BRK-B|2023-05-04|3194768|323.44|325.99|317.41| 320.0|2023|    5|  4|  18| BRK-B|2023|    331.0|   294.68|\n",
      "| BRK-B|2023-05-03|2660456|327.13|328.07|323.06|323.22|2023|    5|  3|  18| BRK-B|2023|    331.0|   294.68|\n",
      "+------+----------+-------+------+------+------+------+----+-----+---+----+------+----+---------+---------+\n",
      "only showing top 20 rows\n",
      "\n"
     ]
    }
   ],
   "source": [
    "finalStocks.join(yearly, \n",
    "                (finalStocks.Ticker == yearly.Ticker)&(finalStocks.Year == yearly.Year),\n",
    "                'inner'\n",
    "                ).show()"
   ]
  },
  {
   "cell_type": "code",
   "execution_count": 92,
   "metadata": {},
   "outputs": [
    {
     "name": "stdout",
     "output_type": "stream",
     "text": [
      "+----------+-------+------+------+------+------+-----+---+----+------+----+---------+---------+\n",
      "|ParsedDate| Volume|  Open|  High|   Low| Close|Month|Day|Week|Ticker|Year|YearlHigh|YearlyLow|\n",
      "+----------+-------+------+------+------+------+-----+---+----+------+----+---------+---------+\n",
      "|2023-05-31|6175417|321.12|322.41|319.39|321.08|    5| 31|  22| BRK-B|2023|    331.0|   294.68|\n",
      "|2023-05-30|3232461|321.86|322.47| 319.0|322.19|    5| 30|  22| BRK-B|2023|    331.0|   294.68|\n",
      "|2023-05-26|3229873|320.44|322.63|319.67| 320.6|    5| 26|  21| BRK-B|2023|    331.0|   294.68|\n",
      "|2023-05-25|4251935|320.56|320.56|317.71|319.02|    5| 25|  21| BRK-B|2023|    331.0|   294.68|\n",
      "|2023-05-24|3075393|322.71| 323.0|319.56| 320.2|    5| 24|  21| BRK-B|2023|    331.0|   294.68|\n",
      "|2023-05-23|4031342|328.19|329.27|322.97|323.11|    5| 23|  21| BRK-B|2023|    331.0|   294.68|\n",
      "|2023-05-22|2763422|330.75|331.49|328.35|329.13|    5| 22|  21| BRK-B|2023|    331.0|   294.68|\n",
      "|2023-05-19|4323538| 331.0|333.94|329.12|330.39|    5| 19|  20| BRK-B|2023|    331.0|   294.68|\n",
      "|2023-05-18|2808329|326.87|329.98|325.85|329.76|    5| 18|  20| BRK-B|2023|    331.0|   294.68|\n",
      "|2023-05-17|3047626|325.02|328.26|324.82|327.39|    5| 17|  20| BRK-B|2023|    331.0|   294.68|\n",
      "|2023-05-16|2139996|322.46|324.69|322.36|323.75|    5| 16|  20| BRK-B|2023|    331.0|   294.68|\n",
      "|2023-05-15|2191609|322.89|323.83|320.13|323.53|    5| 15|  20| BRK-B|2023|    331.0|   294.68|\n",
      "|2023-05-12|1938264|323.82|324.24|320.54|322.49|    5| 12|  19| BRK-B|2023|    331.0|   294.68|\n",
      "|2023-05-11|2549339| 321.0|322.96|319.81|322.64|    5| 11|  19| BRK-B|2023|    331.0|   294.68|\n",
      "|2023-05-10|2641134|326.08|326.16|320.15|322.99|    5| 10|  19| BRK-B|2023|    331.0|   294.68|\n",
      "|2023-05-09|2285924|324.87|326.88|323.48|324.87|    5|  9|  19| BRK-B|2023|    331.0|   294.68|\n",
      "|2023-05-08|3303393|328.26|330.69|325.79|326.14|    5|  8|  19| BRK-B|2023|    331.0|   294.68|\n",
      "|2023-05-05|3876299|323.36|325.16|322.62|323.88|    5|  5|  18| BRK-B|2023|    331.0|   294.68|\n",
      "|2023-05-04|3194768|323.44|325.99|317.41| 320.0|    5|  4|  18| BRK-B|2023|    331.0|   294.68|\n",
      "|2023-05-03|2660456|327.13|328.07|323.06|323.22|    5|  3|  18| BRK-B|2023|    331.0|   294.68|\n",
      "+----------+-------+------+------+------+------+-----+---+----+------+----+---------+---------+\n",
      "only showing top 20 rows\n",
      "\n"
     ]
    }
   ],
   "source": [
    "historic_stocks = finalStocks.join(yearly, \n",
    "                                   (finalStocks.Ticker == yearly.Ticker)&(finalStocks.Year == yearly.Year),\n",
    "                                   'inner'\n",
    "                                   ).drop(yearly.Ticker, yearly.Year)\n",
    "\n",
    "historic_stocks.show()"
   ]
  },
  {
   "cell_type": "code",
   "execution_count": 93,
   "metadata": {},
   "outputs": [],
   "source": [
    "# cond = [(historic_stocks.Ticker==monthly.Ticker) & (historic_stocks.Year == monthly.Year) & (historic_stocks.Month == monthly.Month)]\n",
    "# historic_stocks = historic_stocks.join(monthly, cond, 'inner').drop(monthly.Year, historic_stocks.Ticker, monthly.Month)"
   ]
  },
  {
   "cell_type": "code",
   "execution_count": 94,
   "metadata": {},
   "outputs": [
    {
     "name": "stdout",
     "output_type": "stream",
     "text": [
      "+------+----+-----+----------+-------+------+------+------+------+---+----+---------+---------+------------+-----------+---------+\n",
      "|Ticker|Year|Month|ParsedDate| Volume|  Open|  High|   Low| Close|Day|Week|YearlHigh|YearlyLow|Monthly High|Monthly Low|   Spread|\n",
      "+------+----+-----+----------+-------+------+------+------+------+---+----+---------+---------+------------+-----------+---------+\n",
      "| BRK-B|2023|    5|2023-05-31|6175417|321.12|322.41|319.39|321.08| 31|  22|    331.0|   294.68|       331.0|     320.44|10.559998|\n",
      "| BRK-B|2023|    5|2023-05-30|3232461|321.86|322.47| 319.0|322.19| 30|  22|    331.0|   294.68|       331.0|     320.44|10.559998|\n",
      "| BRK-B|2023|    5|2023-05-26|3229873|320.44|322.63|319.67| 320.6| 26|  21|    331.0|   294.68|       331.0|     320.44|10.559998|\n",
      "| BRK-B|2023|    5|2023-05-25|4251935|320.56|320.56|317.71|319.02| 25|  21|    331.0|   294.68|       331.0|     320.44|10.559998|\n",
      "| BRK-B|2023|    5|2023-05-24|3075393|322.71| 323.0|319.56| 320.2| 24|  21|    331.0|   294.68|       331.0|     320.44|10.559998|\n",
      "| BRK-B|2023|    5|2023-05-23|4031342|328.19|329.27|322.97|323.11| 23|  21|    331.0|   294.68|       331.0|     320.44|10.559998|\n",
      "| BRK-B|2023|    5|2023-05-22|2763422|330.75|331.49|328.35|329.13| 22|  21|    331.0|   294.68|       331.0|     320.44|10.559998|\n",
      "| BRK-B|2023|    5|2023-05-19|4323538| 331.0|333.94|329.12|330.39| 19|  20|    331.0|   294.68|       331.0|     320.44|10.559998|\n",
      "| BRK-B|2023|    5|2023-05-18|2808329|326.87|329.98|325.85|329.76| 18|  20|    331.0|   294.68|       331.0|     320.44|10.559998|\n",
      "| BRK-B|2023|    5|2023-05-17|3047626|325.02|328.26|324.82|327.39| 17|  20|    331.0|   294.68|       331.0|     320.44|10.559998|\n",
      "| BRK-B|2023|    5|2023-05-16|2139996|322.46|324.69|322.36|323.75| 16|  20|    331.0|   294.68|       331.0|     320.44|10.559998|\n",
      "| BRK-B|2023|    5|2023-05-15|2191609|322.89|323.83|320.13|323.53| 15|  20|    331.0|   294.68|       331.0|     320.44|10.559998|\n",
      "| BRK-B|2023|    5|2023-05-12|1938264|323.82|324.24|320.54|322.49| 12|  19|    331.0|   294.68|       331.0|     320.44|10.559998|\n",
      "| BRK-B|2023|    5|2023-05-11|2549339| 321.0|322.96|319.81|322.64| 11|  19|    331.0|   294.68|       331.0|     320.44|10.559998|\n",
      "| BRK-B|2023|    5|2023-05-10|2641134|326.08|326.16|320.15|322.99| 10|  19|    331.0|   294.68|       331.0|     320.44|10.559998|\n",
      "| BRK-B|2023|    5|2023-05-09|2285924|324.87|326.88|323.48|324.87|  9|  19|    331.0|   294.68|       331.0|     320.44|10.559998|\n",
      "| BRK-B|2023|    5|2023-05-08|3303393|328.26|330.69|325.79|326.14|  8|  19|    331.0|   294.68|       331.0|     320.44|10.559998|\n",
      "| BRK-B|2023|    5|2023-05-05|3876299|323.36|325.16|322.62|323.88|  5|  18|    331.0|   294.68|       331.0|     320.44|10.559998|\n",
      "| BRK-B|2023|    5|2023-05-04|3194768|323.44|325.99|317.41| 320.0|  4|  18|    331.0|   294.68|       331.0|     320.44|10.559998|\n",
      "| BRK-B|2023|    5|2023-05-03|2660456|327.13|328.07|323.06|323.22|  3|  18|    331.0|   294.68|       331.0|     320.44|10.559998|\n",
      "+------+----+-----+----------+-------+------+------+------+------+---+----+---------+---------+------------+-----------+---------+\n",
      "only showing top 20 rows\n",
      "\n"
     ]
    }
   ],
   "source": [
    "historic_stocks = historic_stocks.join(monthly ,['Ticker', 'Year', 'Month']).show()\n",
    "# using this method prevents repitition"
   ]
  },
  {
   "cell_type": "markdown",
   "metadata": {},
   "source": [
    "----------------------------------"
   ]
  },
  {
   "cell_type": "markdown",
   "metadata": {},
   "source": [
    "Advanced Queries"
   ]
  },
  {
   "cell_type": "code",
   "execution_count": 95,
   "metadata": {},
   "outputs": [
    {
     "name": "stdout",
     "output_type": "stream",
     "text": [
      "+------+----------+------+\n",
      "|Ticker|ParsedDate|  Open|\n",
      "+------+----------+------+\n",
      "| BRK-B|2023-05-31|321.12|\n",
      "| BRK-B|2023-05-30|321.86|\n",
      "| BRK-B|2023-05-26|320.44|\n",
      "| BRK-B|2023-05-25|320.56|\n",
      "| BRK-B|2023-05-24|322.71|\n",
      "| BRK-B|2023-05-23|328.19|\n",
      "| BRK-B|2023-05-22|330.75|\n",
      "| BRK-B|2023-05-19| 331.0|\n",
      "| BRK-B|2023-05-18|326.87|\n",
      "| BRK-B|2023-05-17|325.02|\n",
      "| BRK-B|2023-05-16|322.46|\n",
      "| BRK-B|2023-05-15|322.89|\n",
      "| BRK-B|2023-05-12|323.82|\n",
      "| BRK-B|2023-05-11| 321.0|\n",
      "| BRK-B|2023-05-10|326.08|\n",
      "| BRK-B|2023-05-09|324.87|\n",
      "| BRK-B|2023-05-08|328.26|\n",
      "| BRK-B|2023-05-05|323.36|\n",
      "| BRK-B|2023-05-04|323.44|\n",
      "| BRK-B|2023-05-03|327.13|\n",
      "+------+----------+------+\n",
      "only showing top 20 rows\n",
      "\n"
     ]
    }
   ],
   "source": [
    "snapshot = finalStocks.select(['Ticker', 'ParsedDate', 'Open'])\n",
    "snapshot.show()"
   ]
  },
  {
   "cell_type": "code",
   "execution_count": 96,
   "metadata": {},
   "outputs": [],
   "source": [
    "from pyspark.sql.window import Window\n",
    "\n",
    "lag2day = Window.partitionBy(\"Ticker\").orderBy(\"ParsedDate\")"
   ]
  },
  {
   "cell_type": "code",
   "execution_count": 99,
   "metadata": {},
   "outputs": [],
   "source": [
    "snapshot = snapshot.withColumn(\"2PreviosOpen\", func.lag(\"Open\", 2).over(lag2day))"
   ]
  },
  {
   "cell_type": "code",
   "execution_count": 100,
   "metadata": {},
   "outputs": [
    {
     "name": "stdout",
     "output_type": "stream",
     "text": [
      "+------+----------+-----+------------+--------------------+\n",
      "|Ticker|ParsedDate| Open|2PreviosOpen|         PercentDiff|\n",
      "+------+----------+-----+------------+--------------------+\n",
      "|  AAPL|2018-05-31|46.81|        NULL|                NULL|\n",
      "|  AAPL|2018-06-01| 47.0|        NULL|                NULL|\n",
      "|  AAPL|2018-06-04|47.91|       46.81|   2.349921900982327|\n",
      "|  AAPL|2018-06-05|48.27|        47.0|  2.7021286335397274|\n",
      "|  AAPL|2018-06-06|48.41|       47.91|  1.0436234639792172|\n",
      "|  AAPL|2018-06-07|48.54|       48.27|  0.5593545788339545|\n",
      "|  AAPL|2018-06-08|47.79|       48.41| -1.2807249201383943|\n",
      "|  AAPL|2018-06-11|47.84|       48.54| -1.4421111449042672|\n",
      "|  AAPL|2018-06-12|47.85|       47.79| 0.12554416707336016|\n",
      "|  AAPL|2018-06-13|48.11|       47.84|  0.5643822259667495|\n",
      "|  AAPL|2018-06-14|47.89|       47.85| 0.08359648234676038|\n",
      "|  AAPL|2018-06-15|47.51|       48.11|  -1.247146707974184|\n",
      "|  AAPL|2018-06-18|46.97|       47.89| -1.9210653177501873|\n",
      "|  AAPL|2018-06-19|46.29|       47.51| -2.5678750770507053|\n",
      "|  AAPL|2018-06-20|46.59|       46.97| -0.8090292915464946|\n",
      "|  AAPL|2018-06-21|46.81|       46.29|  1.1233537426637745|\n",
      "|  AAPL|2018-06-22|46.53|       46.59|-0.12878594783108793|\n",
      "|  AAPL|2018-06-25|45.85|       46.81|  -2.050849970104216|\n",
      "|  AAPL|2018-06-26|45.75|       46.53| -1.6763352670534106|\n",
      "|  AAPL|2018-06-27|46.31|       45.85|   1.003277894173888|\n",
      "+------+----------+-----+------------+--------------------+\n",
      "only showing top 20 rows\n",
      "\n"
     ]
    }
   ],
   "source": [
    "from pyspark.sql.functions import col\n",
    "\n",
    "snapshot.withColumn(\"PercentDiff\", ((col(\"Open\") - col(\"2PreviosOpen\")) / col(\"2PreviosOpen\")) * 100).show()\n"
   ]
  },
  {
   "cell_type": "code",
   "execution_count": 106,
   "metadata": {},
   "outputs": [],
   "source": [
    "maximumStock = Window.partitionBy(\"Ticker\").orderBy(snapshot.Open.desc())"
   ]
  },
  {
   "cell_type": "code",
   "execution_count": 107,
   "metadata": {},
   "outputs": [
    {
     "name": "stdout",
     "output_type": "stream",
     "text": [
      "+------+----------+------+------------+-------+\n",
      "|Ticker|ParsedDate|  Open|2PreviosOpen|MaxOpen|\n",
      "+------+----------+------+------------+-------+\n",
      "|  AAPL|2022-01-04|182.63|      178.09|      1|\n",
      "|  AAPL|2021-12-13|181.12|      174.91|      2|\n",
      "|  AAPL|2021-12-28|180.16|      175.85|      3|\n",
      "|  AAPL|2022-01-05|179.61|      177.83|      4|\n",
      "|  AAPL|2021-12-30|179.47|      180.16|      5|\n",
      "|  AAPL|2021-12-29|179.33|      177.09|      6|\n",
      "|  AAPL|2021-12-16|179.28|      175.25|      7|\n",
      "|  AAPL|2022-03-30|178.55|      172.17|      8|\n",
      "|  AAPL|2021-12-31|178.09|      179.33|      9|\n",
      "|  AAPL|2022-03-31|177.84|      176.69|     10|\n",
      "|  AAPL|2022-01-03|177.83|      179.47|     11|\n",
      "|  AAPL|2022-04-05| 177.5|      174.03|     12|\n",
      "|  AAPL|2023-05-31|177.33|      173.32|     13|\n",
      "|  AAPL|2021-12-27|177.09|      173.04|     14|\n",
      "|  AAPL|2023-05-30|176.96|      172.41|     15|\n",
      "|  AAPL|2022-03-29|176.69|      173.88|     16|\n",
      "|  AAPL|2023-05-19|176.39|      171.71|     17|\n",
      "|  AAPL|2022-01-12|176.12|      169.08|     18|\n",
      "|  AAPL|2022-02-09|176.05|      172.86|     19|\n",
      "|  AAPL|2021-12-23|175.85|      171.56|     20|\n",
      "+------+----------+------+------------+-------+\n",
      "only showing top 20 rows\n",
      "\n"
     ]
    }
   ],
   "source": [
    "snapshot.withColumn(\"MaxOpen\", func.row_number().over(maximumStock)).show()"
   ]
  },
  {
   "cell_type": "code",
   "execution_count": null,
   "metadata": {},
   "outputs": [],
   "source": []
  }
 ],
 "metadata": {
  "kernelspec": {
   "display_name": ".venv",
   "language": "python",
   "name": "python3"
  },
  "language_info": {
   "codemirror_mode": {
    "name": "ipython",
    "version": 3
   },
   "file_extension": ".py",
   "mimetype": "text/x-python",
   "name": "python",
   "nbconvert_exporter": "python",
   "pygments_lexer": "ipython3",
   "version": "3.12.0"
  }
 },
 "nbformat": 4,
 "nbformat_minor": 2
}
